{
  "nbformat": 4,
  "nbformat_minor": 0,
  "metadata": {
    "colab": {
      "name": "SupplyAnalysis.ipynb",
      "provenance": [],
      "collapsed_sections": [],
      "mount_file_id": "18Zv5kx0hSlo5eJTJVFKiQarEbU9AWrWv",
      "authorship_tag": "ABX9TyOvC7vOeorcdocBoDkcj7WE",
      "include_colab_link": true
    },
    "kernelspec": {
      "name": "python3",
      "display_name": "Python 3"
    }
  },
  "cells": [
    {
      "cell_type": "markdown",
      "metadata": {
        "id": "view-in-github",
        "colab_type": "text"
      },
      "source": [
        "<a href=\"https://colab.research.google.com/github/AmanKabra/COVID-testing-capacity/blob/master/SupplyAnalysis.ipynb\" target=\"_parent\"><img src=\"https://colab.research.google.com/assets/colab-badge.svg\" alt=\"Open In Colab\"/></a>"
      ]
    },
    {
      "cell_type": "markdown",
      "metadata": {
        "id": "O5pTqIbJ8P0V",
        "colab_type": "text"
      },
      "source": [
        "Public Labs calculation\n",
        "\n",
        "---\n",
        "\n"
      ]
    },
    {
      "cell_type": "code",
      "metadata": {
        "id": "D74yadFSTe6W",
        "colab_type": "code",
        "colab": {}
      },
      "source": [
        "!pip install geopandas"
      ],
      "execution_count": null,
      "outputs": []
    },
    {
      "cell_type": "code",
      "metadata": {
        "id": "zG1O2Cs8G8Qq",
        "colab_type": "code",
        "colab": {}
      },
      "source": [
        "import pandas as pd\n",
        "import numpy as np\n",
        "import matplotlib.pyplot as plt\n",
        "import math\n",
        "import geopandas as gpd\n",
        "import plotly.express as px"
      ],
      "execution_count": null,
      "outputs": []
    },
    {
      "cell_type": "code",
      "metadata": {
        "id": "uW_8mVUVKePV",
        "colab_type": "code",
        "colab": {}
      },
      "source": [
        "df1=pd.read_excel(\"Parameters.xlsx\",sheet_name=\"PublicLabs\")\n",
        "df1=df1.set_index('State')"
      ],
      "execution_count": null,
      "outputs": []
    },
    {
      "cell_type": "code",
      "metadata": {
        "id": "R_g4nQ6gbyXR",
        "colab_type": "code",
        "colab": {}
      },
      "source": [
        "publiclabs=pd.DataFrame(index=df1.index)\n",
        "publiclabs"
      ],
      "execution_count": null,
      "outputs": []
    },
    {
      "cell_type": "code",
      "metadata": {
        "id": "Zax_Y0Wvlr3_",
        "colab_type": "code",
        "colab": {}
      },
      "source": [
        "for i in range(1,201):\n",
        "  publiclabs[i]=df1[0].astype(int)+((i/df1[\"Frequency of addition (days)\"].astype(int)).apply(np.floor)*df1[\"Number of labs\"].astype(int))\n",
        "publiclabs=publiclabs.astype(int)\n",
        "\n",
        "publiclabs.insert(0,0,df1[0])\n"
      ],
      "execution_count": null,
      "outputs": []
    },
    {
      "cell_type": "code",
      "metadata": {
        "id": "zJ6I9BHVz3o5",
        "colab_type": "code",
        "colab": {}
      },
      "source": [
        "parameters = pd.read_excel('Parameters.xlsx',sheet_name='Parameters') \n",
        "parameters"
      ],
      "execution_count": null,
      "outputs": []
    },
    {
      "cell_type": "code",
      "metadata": {
        "id": "epewKRDNqMrB",
        "colab_type": "code",
        "colab": {}
      },
      "source": [
        "publiccap=publiclabs*parameters.iloc[9,1]*parameters.iloc[10,1]"
      ],
      "execution_count": null,
      "outputs": []
    },
    {
      "cell_type": "markdown",
      "metadata": {
        "id": "Qf9NI5oK_U56",
        "colab_type": "text"
      },
      "source": [
        "Private labs calculations\n",
        "\n",
        "\n",
        "\n",
        "\n",
        "\n",
        "\n",
        "\n",
        "\n",
        "\n",
        "\n",
        "---\n",
        "\n"
      ]
    },
    {
      "cell_type": "code",
      "metadata": {
        "id": "O-qRsl1vH5Dp",
        "colab_type": "code",
        "colab": {}
      },
      "source": [
        "GeneXvalue = (parameters.loc[5][1]/parameters.loc[1][1]*parameters.loc[0][1]*(1-parameters.loc[4][1])*(1-parameters.loc[2][1])).astype(int)*939*parameters.loc[6][1]/30\n",
        "GeneXvalue=GeneXvalue.astype(int)\n",
        "\n",
        "genex = pd.Series([])\n",
        "\n",
        "i=0\n",
        "while i<201:\n",
        "  if i<parameters.iloc[3,1]:\n",
        "    genex[i]=0\n",
        "  else:\n",
        "    genex[i]=GeneXvalue\n",
        "  i+=1\n",
        "\n",
        "genex"
      ],
      "execution_count": null,
      "outputs": []
    },
    {
      "cell_type": "code",
      "metadata": {
        "id": "21lTQh6IKyRx",
        "colab_type": "code",
        "colab": {}
      },
      "source": [
        "abottvalue = (parameters.loc[5][2]/parameters.loc[1][2]*parameters.loc[0][2]*(1-parameters.loc[4][2])*(1-parameters.loc[2][2])).astype(int)*11*parameters.loc[6][2]/30\n",
        "abottvalue = abottvalue.astype(int)\n",
        "\n",
        "abott = pd.Series([])\n",
        "\n",
        "\n",
        "i=0\n",
        "while i<201:\n",
        "  if i<parameters.iloc[3,2]:\n",
        "    abott[i]=0\n",
        "  else:\n",
        "    abott[i]=abottvalue\n",
        "  i+=1\n"
      ],
      "execution_count": null,
      "outputs": []
    },
    {
      "cell_type": "code",
      "metadata": {
        "id": "x6gCF_DQyCBt",
        "colab_type": "code",
        "colab": {}
      },
      "source": [
        "rawdata = pd.read_excel('Parameters.xlsx',sheet_name='RawData') \n",
        "rawdata[:] = rawdata[:].replace({'Unknown':np.nan})\n",
        "ICMRapproved = rawdata[rawdata['ICMR Approved']==1]"
      ],
      "execution_count": null,
      "outputs": []
    },
    {
      "cell_type": "code",
      "metadata": {
        "id": "_aIltvLdAWrJ",
        "colab_type": "code",
        "colab": {}
      },
      "source": [
        "totalrtpcr=rawdata['qPCR instruments'].sum()"
      ],
      "execution_count": null,
      "outputs": []
    },
    {
      "cell_type": "code",
      "metadata": {
        "id": "GlSlmKQY8p_q",
        "colab_type": "code",
        "colab": {}
      },
      "source": [
        "\n",
        "rtpcrvalue = (parameters.loc[5][3]/parameters.loc[1][3]*parameters.loc[0][3]*(1-parameters.loc[4][3])*(1-parameters.loc[2][3])).astype(int)*(int(totalrtpcr)+150)*parameters.loc[6][3]/30\n",
        "rtpcrvalue = rtpcrvalue.astype(int)\n",
        "\n",
        "rtpcr = pd.Series([])\n",
        "\n",
        "\n",
        "i=0\n",
        "while i<201:\n",
        "  if i<parameters.iloc[3,3]:\n",
        "    rtpcr[i]=0\n",
        "  else:\n",
        "    rtpcr[i]=rtpcrvalue\n",
        "  i+=1\n",
        "\n",
        "rtpcr"
      ],
      "execution_count": null,
      "outputs": []
    },
    {
      "cell_type": "code",
      "metadata": {
        "id": "C9QPl4vUHu0p",
        "colab_type": "code",
        "colab": {}
      },
      "source": [
        "try1 = pd.read_excel('Parameters.xlsx',sheet_name='RTPCR Capacity')\n",
        "RTPCRnewkits = try1.iloc[:,0]\n",
        "type(RTPCRnewkits)\n",
        "RTPCRnewkits"
      ],
      "execution_count": null,
      "outputs": []
    },
    {
      "cell_type": "code",
      "metadata": {
        "id": "HMMGvif8GZG5",
        "colab_type": "code",
        "colab": {}
      },
      "source": [
        "Dailykitsallocated = np.minimum(rtpcr,RTPCRnewkits)\n",
        "Dailykitsallocated"
      ],
      "execution_count": null,
      "outputs": []
    },
    {
      "cell_type": "code",
      "metadata": {
        "id": "1oFC5BcxJlKR",
        "colab_type": "code",
        "colab": {}
      },
      "source": [
        "CarriedOverTestKits=pd.Series()"
      ],
      "execution_count": null,
      "outputs": []
    },
    {
      "cell_type": "code",
      "metadata": {
        "id": "i-j7HG9BJ-bM",
        "colab_type": "code",
        "colab": {}
      },
      "source": [
        "CarriedOverTestKits=RTPCRnewkits-Dailykitsallocated\n",
        "CarriedOverTestKits.describe()\n",
        "CumSumCarriedOverTestKits=CarriedOverTestKits.cumsum()\n",
        "CumSumCarriedOverTestKits"
      ],
      "execution_count": null,
      "outputs": []
    },
    {
      "cell_type": "code",
      "metadata": {
        "id": "Xf22_JE7L_3v",
        "colab_type": "code",
        "colab": {}
      },
      "source": [
        "PCRTestKitsAvailableStock=CumSumCarriedOverTestKits+RTPCRnewkits\n",
        "PCRTestKitsAvailableStock"
      ],
      "execution_count": null,
      "outputs": []
    },
    {
      "cell_type": "code",
      "metadata": {
        "id": "Fc1liycRMca1",
        "colab_type": "code",
        "colab": {}
      },
      "source": [
        "DTCManualActualCapacity = np.minimum(PCRTestKitsAvailableStock,rtpcr)\n",
        "DTCManualActualCapacity"
      ],
      "execution_count": null,
      "outputs": []
    },
    {
      "cell_type": "code",
      "metadata": {
        "id": "fGAbLUswNXVz",
        "colab_type": "code",
        "colab": {}
      },
      "source": [
        "TotalTheoreticalCapacity = rtpcr+abott+genex\n",
        "TotalTheoreticalCapacity"
      ],
      "execution_count": null,
      "outputs": []
    },
    {
      "cell_type": "code",
      "metadata": {
        "id": "yZ4CivWKNtQl",
        "colab_type": "code",
        "colab": {}
      },
      "source": [
        "TotalActualCapacity = abott+genex+DTCManualActualCapacity\n",
        "TotalActualCapacity"
      ],
      "execution_count": null,
      "outputs": []
    },
    {
      "cell_type": "code",
      "metadata": {
        "id": "kXOa0giMwYle",
        "colab_type": "code",
        "colab": {}
      },
      "source": [
        "totalICMRrtpcr=ICMRapproved['qPCR instruments'].sum()\n",
        "f45 = totalICMRrtpcr*(parameters.loc[5][3]/parameters.loc[1][3]*parameters.loc[0][3]*(1-parameters.loc[4][3])*(1-parameters.loc[2][3])).astype(int)\n",
        "df5 = pd.Series(range(0, 201 ,1))\n",
        "df6 = (df5/7).astype(int)\n",
        "df6"
      ],
      "execution_count": null,
      "outputs": []
    },
    {
      "cell_type": "code",
      "metadata": {
        "id": "o8PzZbKvyidl",
        "colab_type": "code",
        "colab": {}
      },
      "source": [
        "parameters"
      ],
      "execution_count": null,
      "outputs": []
    },
    {
      "cell_type": "code",
      "metadata": {
        "id": "9LSUb8W3ZlOa",
        "colab_type": "code",
        "colab": {}
      },
      "source": [
        "#RTPCR='Private Labs- FINAL'!$F$45+ ROUNDDOWN(A3/7,0)*'Private Labs- FINAL'!$F$52\n",
        "\n",
        "\n",
        "F45=ICMRapproved[\"qPCR instruments\"].sum().astype(int)*(parameters.loc[5][3]/parameters.loc[1][3]*parameters.loc[0][3]*(1-parameters.loc[4][3])*(1-parameters.loc[2][3])).astype(int)\n",
        "F45\n",
        "F52=parameters.iloc[7,3]*math.floor(rawdata[\"qPCR instruments\"].mean())*(parameters.loc[5][3]/parameters.loc[1][3]*parameters.loc[0][3]*(1-parameters.loc[4][3])*(1-parameters.loc[2][3])).astype(int)*7\n",
        "F52\n",
        "new9=df6*F52+F45"
      ],
      "execution_count": null,
      "outputs": []
    },
    {
      "cell_type": "code",
      "metadata": {
        "id": "QH_2rYa4cDH4",
        "colab_type": "code",
        "colab": {}
      },
      "source": [
        ""
      ],
      "execution_count": null,
      "outputs": []
    },
    {
      "cell_type": "code",
      "metadata": {
        "id": "xey2PLuKS-Kq",
        "colab_type": "code",
        "colab": {}
      },
      "source": [
        "\n",
        "genex2 = pd.Series([])\n",
        "\n",
        "d52=parameters.iloc[7,1]*int(rawdata['GeneXpert Modules'].mean())*(parameters.loc[5][1]/parameters.loc[1][1]*parameters.loc[0][1]*(1-parameters.loc[4][1])*(1-parameters.loc[2][1])).astype(int)*7\n",
        "\n",
        "i=0\n",
        "while i<201:\n",
        "  if i<parameters.iloc[3,1]:\n",
        "    genex2[i]=0\n",
        "  else:\n",
        "    genex2[i]=((parameters.loc[5][1]/parameters.loc[1][1]*parameters.loc[0][1]*(1-parameters.loc[4][1])*(1-parameters.loc[2][1])).astype(int)*ICMRapproved['GeneXpert Modules'].sum())+(df6[i]*d52)\n",
        "  i+=1\n",
        "\n",
        "new10=new9+genex2\n",
        "new10"
      ],
      "execution_count": null,
      "outputs": []
    },
    {
      "cell_type": "code",
      "metadata": {
        "id": "B6F4flsBTnEW",
        "colab_type": "code",
        "colab": {}
      },
      "source": [
        "ICMRTheoreticalCapacity=np.minimum(new10, TotalTheoreticalCapacity)\n",
        "ICMRTheoreticalCapacity"
      ],
      "execution_count": null,
      "outputs": []
    },
    {
      "cell_type": "code",
      "metadata": {
        "id": "KK4fghAxTr1T",
        "colab_type": "code",
        "colab": {}
      },
      "source": [
        "ICMRActualCapacity=np.minimum(ICMRTheoreticalCapacity, TotalActualCapacity)\n",
        "ICMRActualCapacity"
      ],
      "execution_count": null,
      "outputs": []
    },
    {
      "cell_type": "code",
      "metadata": {
        "id": "zvkt9nALfBhL",
        "colab_type": "code",
        "colab": {}
      },
      "source": [
        "CumulativeTestsActual = genex+abott+DTCManualActualCapacity\n",
        "CumSumCumulativeTestsActual=CumulativeTestsActual.cumsum()\n",
        "CumSumCumulativeTestsActual"
      ],
      "execution_count": null,
      "outputs": []
    },
    {
      "cell_type": "code",
      "metadata": {
        "id": "AQdpmtjafl7b",
        "colab_type": "code",
        "colab": {}
      },
      "source": [
        "CumSumICMRActualCapacity=ICMRActualCapacity.cumsum()\n",
        "CumSumICMRActualCapacity"
      ],
      "execution_count": null,
      "outputs": []
    },
    {
      "cell_type": "markdown",
      "metadata": {
        "id": "ibYgmAdhgaiu",
        "colab_type": "text"
      },
      "source": [
        "**Day wise calculations**"
      ]
    },
    {
      "cell_type": "code",
      "metadata": {
        "id": "ipFb1_mSgZk8",
        "colab_type": "code",
        "colab": {}
      },
      "source": [
        "df10=pd.read_excel(\"Parameters.xlsx\",sheet_name=\"PrivateLabs\")\n",
        "df10=df10.set_index('State')\n",
        "\n",
        "privatelabs=pd.DataFrame(index=df10.index)\n",
        "\n",
        "i=0\n",
        "for i in range(1,201):\n",
        "  privatelabs[i]=df10[0].astype(int)+((i/df10[\"Frequency of addition (days)\"].astype(int)).apply(np.floor)*df10[\"Number of labs\"].astype(int))\n",
        "privatelabs=privatelabs.astype(int)\n",
        "privatelabs\n",
        "\n",
        "privatelabs.insert(0,0,df10[0])\n",
        "\n",
        "privatelabs[191]\n",
        "\n"
      ],
      "execution_count": null,
      "outputs": []
    },
    {
      "cell_type": "code",
      "metadata": {
        "id": "ReUnbvEvoF7Q",
        "colab_type": "code",
        "colab": {}
      },
      "source": [
        "sum = privatelabs.sum()\n",
        "prop = pd.DataFrame()\n",
        "for i in range(0,201):\n",
        "  prop[i]=privatelabs[i]/sum[i]"
      ],
      "execution_count": null,
      "outputs": []
    },
    {
      "cell_type": "markdown",
      "metadata": {
        "id": "Fas7xjmLqy0I",
        "colab_type": "text"
      },
      "source": [
        "**Private Theoretical Capacity**"
      ]
    },
    {
      "cell_type": "code",
      "metadata": {
        "id": "IdbpZRzCqxxS",
        "colab_type": "code",
        "colab": {}
      },
      "source": [
        "finalprivatetheoreticalcapacity = pd.DataFrame()\n",
        "\n",
        "for i in range (0,201):\n",
        "  finalprivatetheoreticalcapacity[i] = prop[i]*TotalTheoreticalCapacity[i]\n",
        "\n",
        "finalprivatetheoreticalcapacity"
      ],
      "execution_count": null,
      "outputs": []
    },
    {
      "cell_type": "markdown",
      "metadata": {
        "id": "imcmcpWcsI3_",
        "colab_type": "text"
      },
      "source": [
        "Summing up total capacity"
      ]
    },
    {
      "cell_type": "code",
      "metadata": {
        "id": "Yq7Qe6wNsIZ6",
        "colab_type": "code",
        "colab": {}
      },
      "source": [
        "totalcapacity = finalprivatetheoreticalcapacity + publiccap"
      ],
      "execution_count": null,
      "outputs": []
    },
    {
      "cell_type": "code",
      "metadata": {
        "id": "I1C2QfbjsHSF",
        "colab_type": "code",
        "colab": {}
      },
      "source": [
        "totalcapacity=totalcapacity.astype(int)\n",
        "totalcapacity\n",
        "cumsum = np.cumsum(totalcapacity, axis=1)"
      ],
      "execution_count": null,
      "outputs": []
    },
    {
      "cell_type": "code",
      "metadata": {
        "id": "IIA05vxDtaYR",
        "colab_type": "code",
        "colab": {}
      },
      "source": [
        "plt.plot(cumsum.loc[\"Orissa\"])\n",
        "plt.xlabel(\"Number of days from today\")\n",
        "plt.ylabel(\"Cumulative theoretical testing capacity (orissa)\")\n",
        "plt.grid(True)\n",
        "plt.tight_layout()\n",
        "plt.savefig(\"graph.pdf\")\n"
      ],
      "execution_count": null,
      "outputs": []
    },
    {
      "cell_type": "markdown",
      "metadata": {
        "id": "uTo6R_FqOHvd",
        "colab_type": "text"
      },
      "source": [
        "**Plotting Map**"
      ]
    },
    {
      "cell_type": "code",
      "metadata": {
        "id": "7NsJqVKmOLs4",
        "colab_type": "code",
        "colab": {}
      },
      "source": [
        "SortedDF = cumsum.drop('Chennai')\n",
        "SortedDF = SortedDF.rename(index={'Andaman and Nicobar Islands': 'Andaman and Nicobar'})\n",
        "SortedDF = SortedDF.rename(index={'Jammu and Kashmir': 'Jammu and Kashmir'})\n",
        "SortedDF = SortedDF.append(pd.Series(name='Daman and Diu'))\n",
        "SortedDF = SortedDF.append(pd.Series(name='Lakshadweep'))\n",
        "SortedDF.sort_index(inplace=True)\n",
        "SortedDF = SortedDF.fillna(0)\n",
        "SortedDF"
      ],
      "execution_count": null,
      "outputs": []
    },
    {
      "cell_type": "code",
      "metadata": {
        "id": "WI7gqd5AYxfp",
        "colab_type": "code",
        "colab": {}
      },
      "source": [
        "shapefile = gpd.read_file(\"IND_adm1.shp\")"
      ],
      "execution_count": null,
      "outputs": []
    },
    {
      "cell_type": "code",
      "metadata": {
        "id": "tNNeqn7lPFBh",
        "colab_type": "code",
        "colab": {}
      },
      "source": [
        "from __future__ import print_function\n",
        "from ipywidgets import interact, interactive, fixed, interact_manual\n",
        "import ipywidgets as widgets\n",
        "\n",
        "\n",
        "def f(x):\n",
        "  newcoloumn = SortedDF[int(x)]\n",
        "  newcoloumn.reset_index(drop=True, inplace=True)\n",
        "  global shapefile\n",
        "  shapefile = shapefile.assign(capacity=newcoloumn)\n",
        "  variable = 'capacity'\n",
        "  vmin, vmax = newcoloumn.min(), newcoloumn.max()\n",
        "  fig, ax = plt.subplots(1, figsize=(10, 6))\n",
        "  ax.axis('off')\n",
        "  ax.set_title('Testing capacity for COVID-19', fontdict={'fontsize': '20', 'fontweight': '3'})\n",
        "  ax.annotate('collaboration with CHAI (2020)',xy=(0.1, .08),  xycoords='figure fraction', horizontalalignment='center', verticalalignment='top', fontsize=12, color='#555555')\n",
        "  sm = plt.cm.ScalarMappable(cmap='Blues', norm=plt.Normalize(vmin=vmin, vmax=vmax))\n",
        "  sm._A = []\n",
        "  cbar = fig.colorbar(sm)\n",
        "  capacityplot = shapefile.plot(column=variable, cmap='Blues', linewidth=0.8, ax=ax, edgecolor='0.8')\n",
        "  fig.savefig(\"map_export.png\", dpi=200)\n",
        "\n",
        "\n",
        "interact(f, x=widgets.IntSlider(min=0, max=200, step=1, value=10))"
      ],
      "execution_count": null,
      "outputs": []
    }
  ]
}